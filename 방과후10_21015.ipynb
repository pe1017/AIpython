{
  "nbformat": 4,
  "nbformat_minor": 0,
  "metadata": {
    "colab": {
      "name": "방과후10_21015.ipynb",
      "provenance": [],
      "authorship_tag": "ABX9TyMF3XuacY46Oa4kSoY/Z0dH",
      "include_colab_link": true
    },
    "kernelspec": {
      "name": "python3",
      "display_name": "Python 3"
    }
  },
  "cells": [
    {
      "cell_type": "markdown",
      "metadata": {
        "id": "view-in-github",
        "colab_type": "text"
      },
      "source": [
        "<a href=\"https://colab.research.google.com/github/pe1017/README.md/blob/master/%EB%B0%A9%EA%B3%BC%ED%9B%8410_21015.ipynb\" target=\"_parent\"><img src=\"https://colab.research.google.com/assets/colab-badge.svg\" alt=\"Open In Colab\"/></a>"
      ]
    },
    {
      "cell_type": "markdown",
      "metadata": {
        "id": "KGKx7P2HBWnf",
        "colab_type": "text"
      },
      "source": [
        "# Keras.AI"
      ]
    },
    {
      "cell_type": "code",
      "metadata": {
        "id": "xaQ5pf0WBR2y",
        "colab_type": "code",
        "colab": {
          "base_uri": "https://localhost:8080/",
          "height": 34
        },
        "outputId": "c88b7e4e-cbe4-4f59-9df9-9f1e21b0b7cc"
      },
      "source": [
        "print(\"Hello Github\")"
      ],
      "execution_count": 1,
      "outputs": [
        {
          "output_type": "stream",
          "text": [
            "Hello Github\n"
          ],
          "name": "stdout"
        }
      ]
    }
  ]
}